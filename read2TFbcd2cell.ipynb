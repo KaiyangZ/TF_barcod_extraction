{
 "cells": [
  {
   "cell_type": "code",
   "execution_count": 33,
   "metadata": {},
   "outputs": [],
   "source": [
    "import gzip\n",
    "import glob\n",
    "import re\n",
    "import pickle\n",
    "import pandas as pd\n",
    "from Bio import SeqIO \n",
    "from collections import defaultdict"
   ]
  },
  {
   "cell_type": "code",
   "execution_count": 34,
   "metadata": {},
   "outputs": [],
   "source": [
    "def read2bcd(seqs, gzfile): \n",
    "    r2b = defaultdict(list) \n",
    "    seqs_set = set(seqs) # convert seqs to a set for faster lookup\n",
    "    \n",
    "    with gzip.open(gzfile, 'rt') as fastq:         \n",
    "        for read in SeqIO.parse(fastq, 'fastq'):  \n",
    "            read_seq = str(read.seq)  # Convert Bio.Seq to str once per read\n",
    "            for seq in seqs_set: \n",
    "                if seq in read_seq:\n",
    "                    r2b[read.name].append(seq)\n",
    "    return dict(r2b)   "
   ]
  },
  {
   "cell_type": "code",
   "execution_count": 35,
   "metadata": {},
   "outputs": [],
   "source": [
    "tfBcd = {'HNF1B': 'ATCATATTGAATATGAAGCG',\n",
    "         'SOX17': 'TTTTTGTGAGTTTCAATACG',\n",
    "         'FOXA2': 'TAAGGTAAGTTTATTCCGGA',\n",
    "         'PDX1' : 'ATCTCCTAAATTGCCGCTCC',\n",
    "         'SOX9' : 'TGGATTACTTTGATAGCAGG',\n",
    "         'HNF6' : 'TCTAGAATAAAAGCCTTTGT',\n",
    "         'GFP'  : 'GTACCGAGCTCGAATTCCAG'\n",
    "        }"
   ]
  },
  {
   "cell_type": "code",
   "execution_count": 36,
   "metadata": {},
   "outputs": [],
   "source": [
    "bcd_R2 = 'Sample_Cust-*/*R2_001.fastq.gz'"
   ]
  },
  {
   "cell_type": "code",
   "execution_count": 38,
   "metadata": {},
   "outputs": [],
   "source": [
    "# for each sample, collect the reads containing TF barcodes\n",
    "\n",
    "sm2r2b = defaultdict(list) \n",
    "\n",
    "for R2 in glob.glob(bcd_R2):\n",
    "    sample = re.search('Sample_Cust-(.+?)/', R2).group(1)\n",
    "    \n",
    "    sm2r2b[sample] = read2bcd(tfBcd.values(), R2)  \n",
    "    "
   ]
  },
  {
   "cell_type": "code",
   "execution_count": 39,
   "metadata": {},
   "outputs": [],
   "source": [
    "for sm, r2b in sm2r2b.items():  \n",
    "    # write to file \n",
    "    with open (sm+'_read2TF.tsv', 'w') as f: \n",
    "        f.write('Read\\tBarcode\\n')\n",
    "        for read, barcodes in r2b.items():\n",
    "            for barcode in barcodes:\n",
    "                f.write(f'{read}\\t{barcode}\\n')            "
   ]
  },
  {
   "cell_type": "code",
   "execution_count": 40,
   "metadata": {},
   "outputs": [],
   "source": [
    "bcd_R1 = 'Sample_Cust-*/*R1_001.fastq.gz'"
   ]
  },
  {
   "cell_type": "code",
   "execution_count": 42,
   "metadata": {},
   "outputs": [],
   "source": [
    "# Now map reads to cells \n",
    "# the cell barcode is the first 16 bp of the read \n",
    "\n",
    "sm2r2c = defaultdict(list)\n",
    "\n",
    "for R1 in glob.glob(bcd_R1):\n",
    "    sample = re.search('Sample_Cust-(.+?)/', R1).group(1)\n",
    "    r2c = defaultdict(list)    \n",
    "        \n",
    "    with gzip.open(R1, 'rt') as fastq:\n",
    "        for read in SeqIO.parse(fastq, 'fastq'):                    \n",
    "            r2c[read.name].append(read.seq[:16])\n",
    "            \n",
    "    sm2r2c[sample] = dict(r2c)\n",
    "        "
   ]
  },
  {
   "cell_type": "code",
   "execution_count": 43,
   "metadata": {
    "scrolled": true
   },
   "outputs": [],
   "source": [
    "# write sm2r2c to tsv\n",
    "for sm, r2c in sm2r2c.items():\n",
    "    with open (sm+'_read2cell.tsv', 'w') as f: \n",
    "        f.write('Read\\tBarcode\\n')\n",
    "        for read_c, barcodes_c in r2c.items():\n",
    "            for barcode_c in barcodes_c:\n",
    "                f.write(f'{read_c}\\t{barcode_c}\\n')    \n"
   ]
  }
 ],
 "metadata": {
  "kernelspec": {
   "display_name": "Python 3 (ipykernel)",
   "language": "python",
   "name": "python3"
  },
  "language_info": {
   "codemirror_mode": {
    "name": "ipython",
    "version": 3
   },
   "file_extension": ".py",
   "mimetype": "text/x-python",
   "name": "python",
   "nbconvert_exporter": "python",
   "pygments_lexer": "ipython3",
   "version": "3.10.12"
  }
 },
 "nbformat": 4,
 "nbformat_minor": 4
}
